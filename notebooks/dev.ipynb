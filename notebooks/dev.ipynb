{
 "cells": [
  {
   "cell_type": "code",
   "execution_count": null,
   "id": "c783d4c9-4458-4bbb-b770-56d106ecc0b0",
   "metadata": {},
   "outputs": [],
   "source": [
    "import json\n",
    "from pymongo import MongoClient\n",
    "from tqdm import tqdm\n",
    "from functools import partial\n",
    "from copy import deepcopy"
   ]
  },
  {
   "cell_type": "code",
   "execution_count": null,
   "id": "1fad42cd-e0d0-4b29-93c6-d10d1e8983c9",
   "metadata": {},
   "outputs": [],
   "source": [
    "def read_config(config_filename):\n",
    "    \"\"\"Read the json config.\"\"\"\n",
    "\n",
    "    with open(config_filename, 'r') as f:\n",
    "        config = json.load(f, strict=False)\n",
    "        \n",
    "    return config\n",
    "\n",
    "def get_database_connection(config, section):\n",
    "    \"\"\"Get a pymongo connection.\"\"\"\n",
    "    \n",
    "    client = MongoClient(config[section + '_server'])\n",
    "    db = client[config[section + '_database']]\n",
    "    return db"
   ]
  },
  {
   "cell_type": "code",
   "execution_count": null,
   "id": "07916225-041b-4673-b48e-12067249e597",
   "metadata": {},
   "outputs": [],
   "source": []
  },
  {
   "cell_type": "code",
   "execution_count": null,
   "id": "a4ea4d39-0121-4b1c-aac4-97112e47b2ba",
   "metadata": {},
   "outputs": [],
   "source": [
    "config_filename = '../config.json.sample'\n",
    "config = read_config(config_filename)\n",
    "source = get_database_connection(config, \"source\")"
   ]
  },
  {
   "cell_type": "code",
   "execution_count": null,
   "id": "608cac67-5096-4e22-97d3-c0b96a60b205",
   "metadata": {},
   "outputs": [],
   "source": [
    "destination = get_database_connection(config, \"destination\")"
   ]
  },
  {
   "cell_type": "code",
   "execution_count": null,
   "id": "7cfdd4eb-d815-4520-955a-7c46f49d577c",
   "metadata": {},
   "outputs": [],
   "source": []
  },
  {
   "cell_type": "code",
   "execution_count": null,
   "id": "d889b81a-1b1f-4643-88ba-718c155c6b0d",
   "metadata": {},
   "outputs": [],
   "source": [
    "for item in source['users'].find():\n",
    "    print(item)\n",
    "    break"
   ]
  },
  {
   "cell_type": "code",
   "execution_count": null,
   "id": "30e640c6-f2f2-4ca7-9d4c-96db378d04fe",
   "metadata": {},
   "outputs": [],
   "source": [
    "config['pseudonymize']"
   ]
  },
  {
   "cell_type": "code",
   "execution_count": null,
   "id": "30cd91cd-2f55-4704-b362-9f950826b4d8",
   "metadata": {},
   "outputs": [],
   "source": [
    "class CountPseudonymizer():\n",
    "    \"\"\"Pseudonymize strings.\"\"\"\n",
    "    \n",
    "    def __init__(self):\n",
    "        self.mapping = {}\n",
    "    \n",
    "    def pseudonymize(self, inp):\n",
    "        inp = str(inp)\n",
    "        \n",
    "        if inp in self.mapping:\n",
    "            return self.mapping[inp]\n",
    "        \n",
    "        out = str(len(self.mapping))\n",
    "        \n",
    "        self.mapping[inp] = out\n",
    "        \n",
    "        return out"
   ]
  },
  {
   "cell_type": "code",
   "execution_count": null,
   "id": "7a13697f-c7e5-46dc-bcdb-a38caf6dbe0a",
   "metadata": {},
   "outputs": [],
   "source": [
    "pseudonymizer = CountPseudonymizer()"
   ]
  },
  {
   "cell_type": "code",
   "execution_count": null,
   "id": "20c6b792-ff10-48a1-a2c7-a5acd48e14b2",
   "metadata": {},
   "outputs": [],
   "source": [
    "def iterate_mongo(db):\n",
    "    \"\"\"Go over each entry in a database.\"\"\"\n",
    "    for collection_name in tqdm(db.list_collection_names(), desc=\"DB\"):\n",
    "        collection = source[collection_name]\n",
    "        for entry in tqdm(collection.find(), desc=collection_name,\n",
    "                          total=collection.estimated_document_count()):\n",
    "            yield collection_name, entry"
   ]
  },
  {
   "cell_type": "code",
   "execution_count": null,
   "id": "0e5a6261-0d83-4b04-a70e-6156faccf1f3",
   "metadata": {},
   "outputs": [],
   "source": [
    "for collection, entry in iterate_mongo(source):\n",
    "    print(collection, entry)\n",
    "    break"
   ]
  },
  {
   "cell_type": "code",
   "execution_count": null,
   "id": "43f8afd9-0740-4469-98ca-9293e071063f",
   "metadata": {},
   "outputs": [],
   "source": [
    "def sink(g):\n",
    "    \"\"\"Iterate over all entries.\"\"\"\n",
    "    for entry in g:\n",
    "        pass"
   ]
  },
  {
   "cell_type": "code",
   "execution_count": null,
   "id": "d2589675-540d-4e7f-8eb8-4c8d7f9c4f7e",
   "metadata": {},
   "outputs": [],
   "source": [
    "def pseudonymize(collection, entry, pseudonymizer, config):\n",
    "    \"\"\"Pseudonymize an entry in the database.\"\"\"\n",
    "    \n",
    "    entry_out = entry\n",
    "    \n",
    "    if collection in config['pseudonymize']:\n",
    "        entry_out = deepcopy(entry)\n",
    "        \n",
    "        config_keys = config['pseudonymize'][collection]\n",
    "        entry_keys = entry_out.keys()\n",
    "        \n",
    "        # print(config_keys, entry_keys)\n",
    "        \n",
    "        for field in set(config_keys).intersection(entry_keys):\n",
    "            entry_out[field] = pseudonymizer.pseudonymize(entry[field])\n",
    "            \n",
    "    return collection, entry_out"
   ]
  },
  {
   "cell_type": "code",
   "execution_count": null,
   "id": "07379db8-fff9-4295-83f7-4fe436906462",
   "metadata": {},
   "outputs": [],
   "source": [
    "def write_entry(collection, entry, db):\n",
    "    \"\"\"Write data to a collection.\"\"\"\n",
    "    db[collection].insert_one(entry)\n",
    "    return collection, entry"
   ]
  },
  {
   "cell_type": "code",
   "execution_count": null,
   "id": "ed3675f8-926a-4006-b52e-05904c261a91",
   "metadata": {},
   "outputs": [],
   "source": [
    "def compose_with_args(fs):\n",
    "    \"\"\"Apply many functions one after another.\"\"\"\n",
    "    \n",
    "    def compose_fcn(args):\n",
    "        for f in fs:\n",
    "            # print(f, args)\n",
    "            args = f(*args)\n",
    "        return args\n",
    "        \n",
    "    return compose_fcn"
   ]
  },
  {
   "cell_type": "code",
   "execution_count": null,
   "id": "32a52495-609e-46ac-8d05-3cd902e7b9e8",
   "metadata": {},
   "outputs": [],
   "source": [
    "p = CountPseudonymizer()"
   ]
  },
  {
   "cell_type": "code",
   "execution_count": null,
   "id": "1fd96840-ac84-4b1b-8c88-7ae5d1261dcf",
   "metadata": {},
   "outputs": [],
   "source": [
    "pseudonymize_p = partial(pseudonymize,\n",
    "                         pseudonymizer=CountPseudonymizer(),\n",
    "                         config=config)\n",
    "\n",
    "write_p = partial(write_entry, db=destination)"
   ]
  },
  {
   "cell_type": "code",
   "execution_count": null,
   "id": "1e7517d1-cec7-4a51-ac8c-56a07ffe974e",
   "metadata": {},
   "outputs": [],
   "source": [
    "pseudonymize_p(\"users\", {'email': \"sdfsf\"})"
   ]
  },
  {
   "cell_type": "code",
   "execution_count": null,
   "id": "104f872f-9f84-46c8-9759-efb4dd159eb3",
   "metadata": {},
   "outputs": [],
   "source": [
    "items = iterate_mongo(source)\n",
    "pseudonymize_and_write = compose_with_args([pseudonymize_p, write_p])\n",
    "out = map(pseudonymize_and_write, items)\n",
    "sink(out)"
   ]
  },
  {
   "cell_type": "code",
   "execution_count": null,
   "id": "6eb5ef97-5eba-4c68-b844-e8b8671bc764",
   "metadata": {},
   "outputs": [],
   "source": []
  }
 ],
 "metadata": {
  "kernelspec": {
   "display_name": "Python 3 (ipykernel)",
   "language": "python",
   "name": "python3"
  },
  "language_info": {
   "codemirror_mode": {
    "name": "ipython",
    "version": 3
   },
   "file_extension": ".py",
   "mimetype": "text/x-python",
   "name": "python",
   "nbconvert_exporter": "python",
   "pygments_lexer": "ipython3",
   "version": "3.9.7"
  }
 },
 "nbformat": 4,
 "nbformat_minor": 5
}
